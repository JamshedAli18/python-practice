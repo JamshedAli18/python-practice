{
 "cells": [
  {
   "cell_type": "markdown",
   "id": "a3020315",
   "metadata": {
    "papermill": {
     "duration": 0.008202,
     "end_time": "2025-06-11T08:40:26.425356",
     "exception": false,
     "start_time": "2025-06-11T08:40:26.417154",
     "status": "completed"
    },
    "tags": []
   },
   "source": [
    "**This notebook is an exercise in the [Python](https://www.kaggle.com/learn/python) course.  You can reference the tutorial at [this link](https://www.kaggle.com/colinmorris/booleans-and-conditionals).**\n",
    "\n",
    "---\n"
   ]
  },
  {
   "cell_type": "markdown",
   "id": "cc7d9284",
   "metadata": {
    "papermill": {
     "duration": 0.005767,
     "end_time": "2025-06-11T08:40:26.440281",
     "exception": false,
     "start_time": "2025-06-11T08:40:26.434514",
     "status": "completed"
    },
    "tags": []
   },
   "source": [
    "In this exercise, you'll put to work what you have learned about booleans and conditionals.\n",
    "\n",
    "To get started, **run the setup code below** before writing your own code (and if you leave this notebook and come back later, don't forget to run the setup code again)."
   ]
  },
  {
   "cell_type": "code",
   "execution_count": 1,
   "id": "04f98586",
   "metadata": {
    "execution": {
     "iopub.execute_input": "2025-06-11T08:40:26.464392Z",
     "iopub.status.busy": "2025-06-11T08:40:26.463089Z",
     "iopub.status.idle": "2025-06-11T08:40:28.822519Z",
     "shell.execute_reply": "2025-06-11T08:40:28.821413Z"
    },
    "papermill": {
     "duration": 2.371003,
     "end_time": "2025-06-11T08:40:28.824466",
     "exception": false,
     "start_time": "2025-06-11T08:40:26.453463",
     "status": "completed"
    },
    "tags": []
   },
   "outputs": [
    {
     "name": "stdout",
     "output_type": "stream",
     "text": [
      "Setup complete.\n"
     ]
    }
   ],
   "source": [
    "from learntools.core import binder; binder.bind(globals())\n",
    "from learntools.python.ex3 import *\n",
    "print('Setup complete.')"
   ]
  },
  {
   "cell_type": "markdown",
   "id": "8b1be1dd",
   "metadata": {
    "papermill": {
     "duration": 0.005252,
     "end_time": "2025-06-11T08:40:28.835399",
     "exception": false,
     "start_time": "2025-06-11T08:40:28.830147",
     "status": "completed"
    },
    "tags": []
   },
   "source": [
    "# 1.\n",
    "\n",
    "Many programming languages have [`sign`](https://en.wikipedia.org/wiki/Sign_function) available as a built-in function. Python doesn't, but we can define our own!\n",
    "\n",
    "In the cell below, define a function called `sign` which takes a numerical argument and returns -1 if it's negative, 1 if it's positive, and 0 if it's 0."
   ]
  },
  {
   "cell_type": "code",
   "execution_count": 2,
   "id": "b377cd4b",
   "metadata": {
    "execution": {
     "iopub.execute_input": "2025-06-11T08:40:28.848973Z",
     "iopub.status.busy": "2025-06-11T08:40:28.848527Z",
     "iopub.status.idle": "2025-06-11T08:40:28.858033Z",
     "shell.execute_reply": "2025-06-11T08:40:28.857081Z"
    },
    "papermill": {
     "duration": 0.018752,
     "end_time": "2025-06-11T08:40:28.859648",
     "exception": false,
     "start_time": "2025-06-11T08:40:28.840896",
     "status": "completed"
    },
    "tags": []
   },
   "outputs": [
    {
     "data": {
      "application/javascript": [
       "parent.postMessage({\"jupyterEvent\": \"custom.exercise_interaction\", \"data\": {\"outcomeType\": 1, \"valueTowardsCompletion\": 0.2, \"interactionType\": 1, \"questionType\": 2, \"questionId\": \"1_SignFunctionProblem\", \"learnToolsVersion\": \"0.3.5\", \"failureMessage\": \"\", \"exceptionClass\": \"\", \"trace\": \"\"}}, \"*\")"
      ],
      "text/plain": [
       "<IPython.core.display.Javascript object>"
      ]
     },
     "metadata": {},
     "output_type": "display_data"
    },
    {
     "data": {
      "text/markdown": [
       "<span style=\"color:#33cc33\">Correct</span>"
      ],
      "text/plain": [
       "Correct"
      ]
     },
     "metadata": {},
     "output_type": "display_data"
    }
   ],
   "source": [
    "# Your code goes here. Define a function called 'sign'\n",
    "def sign(x):\n",
    "    if x > 0:\n",
    "        return 1\n",
    "    elif x < 0:\n",
    "        return -1\n",
    "    else:\n",
    "        return 00\n",
    "    \n",
    "# Check your answer\n",
    "q1.check()"
   ]
  },
  {
   "cell_type": "markdown",
   "id": "b024c1bb",
   "metadata": {
    "papermill": {
     "duration": 0.005626,
     "end_time": "2025-06-11T08:40:28.871063",
     "exception": false,
     "start_time": "2025-06-11T08:40:28.865437",
     "status": "completed"
    },
    "tags": []
   },
   "source": [
    "# 2.\n",
    "\n",
    "We've decided to add \"logging\" to our `to_smash` function from the previous exercise."
   ]
  },
  {
   "cell_type": "code",
   "execution_count": 3,
   "id": "2c6fc2b3",
   "metadata": {
    "execution": {
     "iopub.execute_input": "2025-06-11T08:40:28.884040Z",
     "iopub.status.busy": "2025-06-11T08:40:28.883715Z",
     "iopub.status.idle": "2025-06-11T08:40:28.891767Z",
     "shell.execute_reply": "2025-06-11T08:40:28.890498Z"
    },
    "papermill": {
     "duration": 0.017522,
     "end_time": "2025-06-11T08:40:28.894285",
     "exception": false,
     "start_time": "2025-06-11T08:40:28.876763",
     "status": "completed"
    },
    "tags": []
   },
   "outputs": [
    {
     "name": "stdout",
     "output_type": "stream",
     "text": [
      "Splitting 91 candies\n"
     ]
    },
    {
     "data": {
      "text/plain": [
       "1"
      ]
     },
     "execution_count": 3,
     "metadata": {},
     "output_type": "execute_result"
    }
   ],
   "source": [
    "def to_smash(total_candies):\n",
    "    \"\"\"Return the number of leftover candies that must be smashed after distributing\n",
    "    the given number of candies evenly between 3 friends.\n",
    "    \n",
    "    >>> to_smash(91)\n",
    "    1\n",
    "    \"\"\"\n",
    "    print(\"Splitting\", total_candies, \"candies\")\n",
    "    return total_candies % 3\n",
    "\n",
    "to_smash(91)"
   ]
  },
  {
   "cell_type": "markdown",
   "id": "bf7cad4d",
   "metadata": {
    "papermill": {
     "duration": 0.00581,
     "end_time": "2025-06-11T08:40:28.907047",
     "exception": false,
     "start_time": "2025-06-11T08:40:28.901237",
     "status": "completed"
    },
    "tags": []
   },
   "source": [
    "What happens if we call it with `total_candies = 1`?"
   ]
  },
  {
   "cell_type": "code",
   "execution_count": 4,
   "id": "27f43662",
   "metadata": {
    "execution": {
     "iopub.execute_input": "2025-06-11T08:40:28.920456Z",
     "iopub.status.busy": "2025-06-11T08:40:28.920109Z",
     "iopub.status.idle": "2025-06-11T08:40:28.926501Z",
     "shell.execute_reply": "2025-06-11T08:40:28.925595Z"
    },
    "papermill": {
     "duration": 0.014937,
     "end_time": "2025-06-11T08:40:28.928165",
     "exception": false,
     "start_time": "2025-06-11T08:40:28.913228",
     "status": "completed"
    },
    "tags": []
   },
   "outputs": [
    {
     "name": "stdout",
     "output_type": "stream",
     "text": [
      "Splitting 1 candies\n"
     ]
    },
    {
     "data": {
      "text/plain": [
       "1"
      ]
     },
     "execution_count": 4,
     "metadata": {},
     "output_type": "execute_result"
    }
   ],
   "source": [
    "to_smash(1)"
   ]
  },
  {
   "cell_type": "markdown",
   "id": "c306b9af",
   "metadata": {
    "papermill": {
     "duration": 0.006278,
     "end_time": "2025-06-11T08:40:28.941067",
     "exception": false,
     "start_time": "2025-06-11T08:40:28.934789",
     "status": "completed"
    },
    "tags": []
   },
   "source": [
    "That isn't great grammar!\n",
    "\n",
    "Modify the definition in the cell below to correct the grammar of our print statement. (If there's only one candy, we should use the singular \"candy\" instead of the plural \"candies\")"
   ]
  },
  {
   "cell_type": "code",
   "execution_count": 5,
   "id": "68e5d6b5",
   "metadata": {
    "execution": {
     "iopub.execute_input": "2025-06-11T08:40:28.955441Z",
     "iopub.status.busy": "2025-06-11T08:40:28.954275Z",
     "iopub.status.idle": "2025-06-11T08:40:28.962234Z",
     "shell.execute_reply": "2025-06-11T08:40:28.961308Z"
    },
    "papermill": {
     "duration": 0.016897,
     "end_time": "2025-06-11T08:40:28.963952",
     "exception": false,
     "start_time": "2025-06-11T08:40:28.947055",
     "status": "completed"
    },
    "tags": []
   },
   "outputs": [
    {
     "name": "stdout",
     "output_type": "stream",
     "text": [
      "Splitting 91 candies\n",
      "Splitting 1 candies\n"
     ]
    },
    {
     "data": {
      "text/plain": [
       "1"
      ]
     },
     "execution_count": 5,
     "metadata": {},
     "output_type": "execute_result"
    }
   ],
   "source": [
    "def to_smash(total_candies):\n",
    "    \"\"\"Return the number of leftover candies that must be smashed after distributing\n",
    "    the given number of candies evenly between 3 friends.\n",
    "    \n",
    "    >>> to_smash(91)\n",
    "    1\n",
    "    \"\"\"\n",
    "    print(\"Splitting\", total_candies, \"candies\")\n",
    "    return total_candies % 3\n",
    "\n",
    "to_smash(91)\n",
    "to_smash(1)"
   ]
  },
  {
   "cell_type": "markdown",
   "id": "537445c4",
   "metadata": {
    "papermill": {
     "duration": 0.005955,
     "end_time": "2025-06-11T08:40:28.976277",
     "exception": false,
     "start_time": "2025-06-11T08:40:28.970322",
     "status": "completed"
    },
    "tags": []
   },
   "source": [
    "To get credit for completing this problem, and to see the official answer, run the code cell below."
   ]
  },
  {
   "cell_type": "code",
   "execution_count": 6,
   "id": "1bae2344",
   "metadata": {
    "execution": {
     "iopub.execute_input": "2025-06-11T08:40:28.989709Z",
     "iopub.status.busy": "2025-06-11T08:40:28.989419Z",
     "iopub.status.idle": "2025-06-11T08:40:28.997213Z",
     "shell.execute_reply": "2025-06-11T08:40:28.996344Z"
    },
    "papermill": {
     "duration": 0.016468,
     "end_time": "2025-06-11T08:40:28.999027",
     "exception": false,
     "start_time": "2025-06-11T08:40:28.982559",
     "status": "completed"
    },
    "tags": []
   },
   "outputs": [
    {
     "data": {
      "application/javascript": [
       "parent.postMessage({\"jupyterEvent\": \"custom.exercise_interaction\", \"data\": {\"interactionType\": 3, \"questionType\": 4, \"questionId\": \"2_PluralizationProblem\", \"learnToolsVersion\": \"0.3.5\", \"valueTowardsCompletion\": 0.0, \"failureMessage\": \"\", \"exceptionClass\": \"\", \"trace\": \"\", \"outcomeType\": 4}}, \"*\")"
      ],
      "text/plain": [
       "<IPython.core.display.Javascript object>"
      ]
     },
     "metadata": {},
     "output_type": "display_data"
    },
    {
     "data": {
      "text/markdown": [
       "<span style=\"color:#33cc99\">Solution:</span> A straightforward (and totally fine) solution is to replace the original `print` call with:\n",
       "\n",
       "```python\n",
       "if total_candies == 1:\n",
       "    print(\"Splitting 1 candy\")\n",
       "else:\n",
       "    print(\"Splitting\", total_candies, \"candies\")\n",
       "```\n",
       "\n",
       "Here's a slightly more succinct solution using a conditional expression:\n",
       "\n",
       "```python\n",
       "print(\"Splitting\", total_candies, \"candy\" if total_candies == 1 else \"candies\")\n",
       "```"
      ],
      "text/plain": [
       "Solution: A straightforward (and totally fine) solution is to replace the original `print` call with:\n",
       "\n",
       "```python\n",
       "if total_candies == 1:\n",
       "    print(\"Splitting 1 candy\")\n",
       "else:\n",
       "    print(\"Splitting\", total_candies, \"candies\")\n",
       "```\n",
       "\n",
       "Here's a slightly more succinct solution using a conditional expression:\n",
       "\n",
       "```python\n",
       "print(\"Splitting\", total_candies, \"candy\" if total_candies == 1 else \"candies\")\n",
       "```"
      ]
     },
     "metadata": {},
     "output_type": "display_data"
    }
   ],
   "source": [
    "# Check your answer (Run this code cell to receive credit!)\n",
    "q2.solution()"
   ]
  },
  {
   "cell_type": "markdown",
   "id": "488b05ba",
   "metadata": {
    "papermill": {
     "duration": 0.006492,
     "end_time": "2025-06-11T08:40:29.012439",
     "exception": false,
     "start_time": "2025-06-11T08:40:29.005947",
     "status": "completed"
    },
    "tags": []
   },
   "source": [
    "# 3. <span title=\"A bit spicy\" style=\"color: darkgreen \">🌶️</span>\n",
    "\n",
    "In the tutorial, we talked about deciding whether we're prepared for the weather. I said that I'm safe from today's weather if...\n",
    "- I have an umbrella...\n",
    "- or if the rain isn't too heavy and I have a hood...\n",
    "- otherwise, I'm still fine unless it's raining *and* it's a workday\n",
    "\n",
    "The function below uses our first attempt at turning this logic into a Python expression. I claimed that there was a bug in that code. Can you find it?\n",
    "\n",
    "To prove that `prepared_for_weather` is buggy, come up with a set of inputs where either:\n",
    "- the function returns `False` (but should have returned `True`), or\n",
    "- the function returned `True` (but should have returned `False`).\n",
    "\n",
    "To get credit for completing this question, your code should return a <font color='#33cc33'>Correct</font> result."
   ]
  },
  {
   "cell_type": "code",
   "execution_count": 7,
   "id": "bafb9d2b",
   "metadata": {
    "execution": {
     "iopub.execute_input": "2025-06-11T08:40:29.026979Z",
     "iopub.status.busy": "2025-06-11T08:40:29.026671Z",
     "iopub.status.idle": "2025-06-11T08:40:29.038414Z",
     "shell.execute_reply": "2025-06-11T08:40:29.037350Z"
    },
    "papermill": {
     "duration": 0.021223,
     "end_time": "2025-06-11T08:40:29.040274",
     "exception": false,
     "start_time": "2025-06-11T08:40:29.019051",
     "status": "completed"
    },
    "tags": []
   },
   "outputs": [
    {
     "name": "stdout",
     "output_type": "stream",
     "text": [
      "False\n"
     ]
    },
    {
     "data": {
      "application/javascript": [
       "parent.postMessage({\"jupyterEvent\": \"custom.exercise_interaction\", \"data\": {\"outcomeType\": 1, \"valueTowardsCompletion\": 0.2, \"interactionType\": 1, \"questionType\": 1, \"questionId\": \"3_WeatherDebug\", \"learnToolsVersion\": \"0.3.5\", \"failureMessage\": \"\", \"exceptionClass\": \"\", \"trace\": \"\"}}, \"*\")"
      ],
      "text/plain": [
       "<IPython.core.display.Javascript object>"
      ]
     },
     "metadata": {},
     "output_type": "display_data"
    },
    {
     "data": {
      "text/markdown": [
       "<span style=\"color:#33cc33\">Correct:</span> \n",
       "\n",
       "One example of a failing test case is:\n",
       "\n",
       "```python\n",
       "have_umbrella = False\n",
       "rain_level = 0.0\n",
       "have_hood = False\n",
       "is_workday = False\n",
       "```\n",
       "\n",
       "Clearly we're prepared for the weather in this case. It's not raining. Not only that, it's not a workday, so we don't even need to leave the house! But our function will return False on these inputs.\n",
       "\n",
       "The key problem is that Python implictly parenthesizes the last part as:\n",
       "\n",
       "```python\n",
       "(not (rain_level > 0)) and is_workday\n",
       "```\n",
       "\n",
       "Whereas what we were trying to express would look more like:\n",
       "\n",
       "```python\n",
       "not (rain_level > 0 and is_workday)\n",
       "```\n"
      ],
      "text/plain": [
       "Correct: \n",
       "\n",
       "One example of a failing test case is:\n",
       "\n",
       "```python\n",
       "have_umbrella = False\n",
       "rain_level = 0.0\n",
       "have_hood = False\n",
       "is_workday = False\n",
       "```\n",
       "\n",
       "Clearly we're prepared for the weather in this case. It's not raining. Not only that, it's not a workday, so we don't even need to leave the house! But our function will return False on these inputs.\n",
       "\n",
       "The key problem is that Python implictly parenthesizes the last part as:\n",
       "\n",
       "```python\n",
       "(not (rain_level > 0)) and is_workday\n",
       "```\n",
       "\n",
       "Whereas what we were trying to express would look more like:\n",
       "\n",
       "```python\n",
       "not (rain_level > 0 and is_workday)\n",
       "```"
      ]
     },
     "metadata": {},
     "output_type": "display_data"
    }
   ],
   "source": [
    "def prepared_for_weather(have_umbrella, rain_level, have_hood, is_workday):\n",
    "    # Don't change this code. Our goal is just to find the bug, not fix it!\n",
    "    return have_umbrella or rain_level < 5 and have_hood or not rain_level > 0 and is_workday\n",
    "\n",
    "# Change the values of these inputs so they represent a case where prepared_for_weather\n",
    "# returns the wrong answer.\n",
    "have_umbrella = False\n",
    "rain_level = 0.0\n",
    "have_hood = False\n",
    "is_workday = False\n",
    "\n",
    "# Check what the function returns given the current values of the variables above\n",
    "actual = prepared_for_weather(have_umbrella, rain_level, have_hood, is_workday)\n",
    "print(actual)\n",
    "\n",
    "# Check your answer\n",
    "q3.check()"
   ]
  },
  {
   "cell_type": "markdown",
   "id": "dd805131",
   "metadata": {
    "papermill": {
     "duration": 0.00751,
     "end_time": "2025-06-11T08:40:29.054623",
     "exception": false,
     "start_time": "2025-06-11T08:40:29.047113",
     "status": "completed"
    },
    "tags": []
   },
   "source": [
    "# 4.\n",
    "\n",
    "The function `is_negative` below is implemented correctly - it returns True if the given number is negative and False otherwise.\n",
    "\n",
    "However, it's more verbose than it needs to be. We can actually reduce the number of lines of code in this function by *75%* while keeping the same behaviour. \n",
    "\n",
    "See if you can come up with an equivalent body that uses just **one line** of code, and put it in the function `concise_is_negative`. (HINT: you don't even need Python's ternary syntax)"
   ]
  },
  {
   "cell_type": "code",
   "execution_count": 8,
   "id": "bee554c7",
   "metadata": {
    "execution": {
     "iopub.execute_input": "2025-06-11T08:40:29.070635Z",
     "iopub.status.busy": "2025-06-11T08:40:29.070280Z",
     "iopub.status.idle": "2025-06-11T08:40:29.079614Z",
     "shell.execute_reply": "2025-06-11T08:40:29.078545Z"
    },
    "papermill": {
     "duration": 0.019253,
     "end_time": "2025-06-11T08:40:29.081870",
     "exception": false,
     "start_time": "2025-06-11T08:40:29.062617",
     "status": "completed"
    },
    "tags": []
   },
   "outputs": [
    {
     "data": {
      "application/javascript": [
       "parent.postMessage({\"jupyterEvent\": \"custom.exercise_interaction\", \"data\": {\"outcomeType\": 1, \"valueTowardsCompletion\": 0.2, \"interactionType\": 1, \"questionType\": 2, \"questionId\": \"4_ConciseIsNegative\", \"learnToolsVersion\": \"0.3.5\", \"failureMessage\": \"\", \"exceptionClass\": \"\", \"trace\": \"\"}}, \"*\")"
      ],
      "text/plain": [
       "<IPython.core.display.Javascript object>"
      ]
     },
     "metadata": {},
     "output_type": "display_data"
    },
    {
     "data": {
      "text/markdown": [
       "<span style=\"color:#33cc33\">Correct</span>"
      ],
      "text/plain": [
       "Correct"
      ]
     },
     "metadata": {},
     "output_type": "display_data"
    }
   ],
   "source": [
    "def is_negative(number):\n",
    "    if number < 0:\n",
    "        return True\n",
    "    else:\n",
    "        return False\n",
    "\n",
    "def concise_is_negative(number):\n",
    "    return number < 0\n",
    "\n",
    "# Check your answer\n",
    "q4.check()"
   ]
  },
  {
   "cell_type": "markdown",
   "id": "88aaf449",
   "metadata": {
    "papermill": {
     "duration": 0.007126,
     "end_time": "2025-06-11T08:40:29.096071",
     "exception": false,
     "start_time": "2025-06-11T08:40:29.088945",
     "status": "completed"
    },
    "tags": []
   },
   "source": [
    "# 5a.\n",
    "\n",
    "The boolean variables `ketchup`, `mustard` and `onion` represent whether a customer wants a particular topping on their hot dog. We want to implement a number of boolean functions that correspond to some yes-or-no questions about the customer's order. For example:"
   ]
  },
  {
   "cell_type": "code",
   "execution_count": 9,
   "id": "17c8a168",
   "metadata": {
    "execution": {
     "iopub.execute_input": "2025-06-11T08:40:29.111907Z",
     "iopub.status.busy": "2025-06-11T08:40:29.111149Z",
     "iopub.status.idle": "2025-06-11T08:40:29.116515Z",
     "shell.execute_reply": "2025-06-11T08:40:29.115394Z"
    },
    "papermill": {
     "duration": 0.015088,
     "end_time": "2025-06-11T08:40:29.118539",
     "exception": false,
     "start_time": "2025-06-11T08:40:29.103451",
     "status": "completed"
    },
    "tags": []
   },
   "outputs": [],
   "source": [
    "def onionless(ketchup, mustard, onion):\n",
    "    \"\"\"Return whether the customer doesn't want onions.\n",
    "    \"\"\"\n",
    "    return not onion"
   ]
  },
  {
   "cell_type": "code",
   "execution_count": 10,
   "id": "90ae78c9",
   "metadata": {
    "execution": {
     "iopub.execute_input": "2025-06-11T08:40:29.135792Z",
     "iopub.status.busy": "2025-06-11T08:40:29.135147Z",
     "iopub.status.idle": "2025-06-11T08:40:29.143627Z",
     "shell.execute_reply": "2025-06-11T08:40:29.142213Z"
    },
    "papermill": {
     "duration": 0.018641,
     "end_time": "2025-06-11T08:40:29.145212",
     "exception": false,
     "start_time": "2025-06-11T08:40:29.126571",
     "status": "completed"
    },
    "tags": []
   },
   "outputs": [
    {
     "data": {
      "application/javascript": [
       "parent.postMessage({\"jupyterEvent\": \"custom.exercise_interaction\", \"data\": {\"outcomeType\": 1, \"valueTowardsCompletion\": 0.2, \"interactionType\": 1, \"questionType\": 2, \"questionId\": \"5.1_AllToppings\", \"learnToolsVersion\": \"0.3.5\", \"failureMessage\": \"\", \"exceptionClass\": \"\", \"trace\": \"\"}}, \"*\")"
      ],
      "text/plain": [
       "<IPython.core.display.Javascript object>"
      ]
     },
     "metadata": {},
     "output_type": "display_data"
    },
    {
     "data": {
      "text/markdown": [
       "<span style=\"color:#33cc33\">Correct</span>"
      ],
      "text/plain": [
       "Correct"
      ]
     },
     "metadata": {},
     "output_type": "display_data"
    }
   ],
   "source": [
    "def wants_all_toppings(ketchup, mustard, onion):\n",
    "    \"\"\"Return whether the customer wants \"the works\" (all 3 toppings)\n",
    "    \"\"\"\n",
    "    return ketchup and mustard and onion\n",
    "\n",
    "# Check your answer\n",
    "q5.a.check()"
   ]
  },
  {
   "cell_type": "markdown",
   "id": "ac50973a",
   "metadata": {
    "papermill": {
     "duration": 0.006593,
     "end_time": "2025-06-11T08:40:29.159391",
     "exception": false,
     "start_time": "2025-06-11T08:40:29.152798",
     "status": "completed"
    },
    "tags": []
   },
   "source": [
    "# 5b.\n",
    "\n",
    "For the next function, fill in the body to match the English description in the docstring. "
   ]
  },
  {
   "cell_type": "code",
   "execution_count": 11,
   "id": "96371fde",
   "metadata": {
    "execution": {
     "iopub.execute_input": "2025-06-11T08:40:29.174345Z",
     "iopub.status.busy": "2025-06-11T08:40:29.173986Z",
     "iopub.status.idle": "2025-06-11T08:40:29.181841Z",
     "shell.execute_reply": "2025-06-11T08:40:29.180922Z"
    },
    "papermill": {
     "duration": 0.017267,
     "end_time": "2025-06-11T08:40:29.183497",
     "exception": false,
     "start_time": "2025-06-11T08:40:29.166230",
     "status": "completed"
    },
    "tags": []
   },
   "outputs": [
    {
     "data": {
      "application/javascript": [
       "parent.postMessage({\"jupyterEvent\": \"custom.exercise_interaction\", \"data\": {\"outcomeType\": 1, \"valueTowardsCompletion\": 0.2, \"interactionType\": 1, \"questionType\": 2, \"questionId\": \"5.2_PlainDog\", \"learnToolsVersion\": \"0.3.5\", \"failureMessage\": \"\", \"exceptionClass\": \"\", \"trace\": \"\"}}, \"*\")"
      ],
      "text/plain": [
       "<IPython.core.display.Javascript object>"
      ]
     },
     "metadata": {},
     "output_type": "display_data"
    },
    {
     "data": {
      "text/markdown": [
       "<span style=\"color:#33cc33\">Correct:</span> \n",
       "\n",
       "One solution looks like:\n",
       "```python\n",
       "return not ketchup and not mustard and not onion\n",
       "```\n",
       "\n",
       "We can also [\"factor out\" the nots](https://en.wikipedia.org/wiki/De_Morgan%27s_laws) to get:\n",
       "\n",
       "```python\n",
       "return not (ketchup or mustard or onion)\n",
       "```"
      ],
      "text/plain": [
       "Correct: \n",
       "\n",
       "One solution looks like:\n",
       "```python\n",
       "return not ketchup and not mustard and not onion\n",
       "```\n",
       "\n",
       "We can also [\"factor out\" the nots](https://en.wikipedia.org/wiki/De_Morgan%27s_laws) to get:\n",
       "\n",
       "```python\n",
       "return not (ketchup or mustard or onion)\n",
       "```"
      ]
     },
     "metadata": {},
     "output_type": "display_data"
    }
   ],
   "source": [
    "def wants_plain_hotdog(ketchup, mustard, onion):\n",
    "    \"\"\"Return whether the customer wants a plain hot dog with no toppings.\n",
    "    \"\"\"\n",
    "    return not ketchup and not mustard and not onion\n",
    "\n",
    "# Check your answer\n",
    "q5.b.check()"
   ]
  },
  {
   "cell_type": "markdown",
   "id": "7b21d864",
   "metadata": {
    "papermill": {
     "duration": 0.006913,
     "end_time": "2025-06-11T08:40:29.197656",
     "exception": false,
     "start_time": "2025-06-11T08:40:29.190743",
     "status": "completed"
    },
    "tags": []
   },
   "source": [
    "# 5c.\n",
    "\n",
    "You know what to do: for the next function, fill in the body to match the English description in the docstring."
   ]
  },
  {
   "cell_type": "code",
   "execution_count": 12,
   "id": "4be4d666",
   "metadata": {
    "execution": {
     "iopub.execute_input": "2025-06-11T08:40:29.213340Z",
     "iopub.status.busy": "2025-06-11T08:40:29.212992Z",
     "iopub.status.idle": "2025-06-11T08:40:29.221759Z",
     "shell.execute_reply": "2025-06-11T08:40:29.220892Z"
    },
    "papermill": {
     "duration": 0.019139,
     "end_time": "2025-06-11T08:40:29.223845",
     "exception": false,
     "start_time": "2025-06-11T08:40:29.204706",
     "status": "completed"
    },
    "tags": []
   },
   "outputs": [
    {
     "data": {
      "application/javascript": [
       "parent.postMessage({\"jupyterEvent\": \"custom.exercise_interaction\", \"data\": {\"outcomeType\": 1, \"valueTowardsCompletion\": 0.2, \"interactionType\": 1, \"questionType\": 2, \"questionId\": \"5.3_OneSauce\", \"learnToolsVersion\": \"0.3.5\", \"failureMessage\": \"\", \"exceptionClass\": \"\", \"trace\": \"\"}}, \"*\")"
      ],
      "text/plain": [
       "<IPython.core.display.Javascript object>"
      ]
     },
     "metadata": {},
     "output_type": "display_data"
    },
    {
     "data": {
      "text/markdown": [
       "<span style=\"color:#33cc33\">Correct</span>"
      ],
      "text/plain": [
       "Correct"
      ]
     },
     "metadata": {},
     "output_type": "display_data"
    }
   ],
   "source": [
    "def exactly_one_sauce(ketchup, mustard, onion):\n",
    "    \"\"\"Return whether the customer wants either ketchup or mustard, but not both.\n",
    "    (You may be familiar with this operation under the name \"exclusive or\")\n",
    "    \"\"\"\n",
    "    return (ketchup and not mustard) or (mustard and not ketchup)\n",
    "\n",
    "# Check your answer\n",
    "q5.c.check()"
   ]
  },
  {
   "cell_type": "markdown",
   "id": "8fdcdc41",
   "metadata": {
    "papermill": {
     "duration": 0.007463,
     "end_time": "2025-06-11T08:40:29.238769",
     "exception": false,
     "start_time": "2025-06-11T08:40:29.231306",
     "status": "completed"
    },
    "tags": []
   },
   "source": [
    "# 6. <span title=\"A bit spicy\" style=\"color: darkgreen \">🌶️</span>\n",
    "\n",
    "We’ve seen that calling `bool()` on an integer returns `False` if it’s equal to 0 and `True` otherwise. What happens if we call `int()` on a bool? Try it out in the notebook cell below.\n",
    "\n",
    "Can you take advantage of this to write a succinct function that corresponds to the English sentence \"does the customer want exactly one topping?\"?"
   ]
  },
  {
   "cell_type": "code",
   "execution_count": 13,
   "id": "6dc6ec23",
   "metadata": {
    "execution": {
     "iopub.execute_input": "2025-06-11T08:40:29.254872Z",
     "iopub.status.busy": "2025-06-11T08:40:29.254557Z",
     "iopub.status.idle": "2025-06-11T08:40:29.263478Z",
     "shell.execute_reply": "2025-06-11T08:40:29.262357Z"
    },
    "papermill": {
     "duration": 0.018992,
     "end_time": "2025-06-11T08:40:29.265083",
     "exception": false,
     "start_time": "2025-06-11T08:40:29.246091",
     "status": "completed"
    },
    "tags": []
   },
   "outputs": [
    {
     "data": {
      "application/javascript": [
       "parent.postMessage({\"jupyterEvent\": \"custom.exercise_interaction\", \"data\": {\"outcomeType\": 1, \"valueTowardsCompletion\": 0.2, \"interactionType\": 1, \"questionType\": 2, \"questionId\": \"6_OneTopping\", \"learnToolsVersion\": \"0.3.5\", \"failureMessage\": \"\", \"exceptionClass\": \"\", \"trace\": \"\"}}, \"*\")"
      ],
      "text/plain": [
       "<IPython.core.display.Javascript object>"
      ]
     },
     "metadata": {},
     "output_type": "display_data"
    },
    {
     "data": {
      "text/markdown": [
       "<span style=\"color:#33cc33\">Correct:</span> \n",
       "\n",
       "This condition would be pretty complicated to express using just `and`, `or` and `not`, but using boolean-to-integer conversion gives us this short solution:\n",
       "```python\n",
       "return (int(ketchup) + int(mustard) + int(onion)) == 1\n",
       "```\n",
       "\n",
       "Fun fact: we don't technically need to call `int` on the arguments. Just by doing addition with booleans, Python implicitly does the integer conversion. So we could also write...\n",
       "\n",
       "```python\n",
       "return (ketchup + mustard + onion) == 1\n",
       "```"
      ],
      "text/plain": [
       "Correct: \n",
       "\n",
       "This condition would be pretty complicated to express using just `and`, `or` and `not`, but using boolean-to-integer conversion gives us this short solution:\n",
       "```python\n",
       "return (int(ketchup) + int(mustard) + int(onion)) == 1\n",
       "```\n",
       "\n",
       "Fun fact: we don't technically need to call `int` on the arguments. Just by doing addition with booleans, Python implicitly does the integer conversion. So we could also write...\n",
       "\n",
       "```python\n",
       "return (ketchup + mustard + onion) == 1\n",
       "```"
      ]
     },
     "metadata": {},
     "output_type": "display_data"
    }
   ],
   "source": [
    "def exactly_one_topping(ketchup, mustard, onion):\n",
    "    \"\"\"Return whether the customer wants exactly one of the three available toppings\n",
    "    on their hot dog.\n",
    "    \"\"\"\n",
    "    return (int(ketchup) + int(mustard) + int(onion)) == 1\n",
    "\n",
    "# Check your answer\n",
    "q6.check()"
   ]
  },
  {
   "cell_type": "markdown",
   "id": "51e8868b",
   "metadata": {
    "papermill": {
     "duration": 0.007507,
     "end_time": "2025-06-11T08:40:29.280294",
     "exception": false,
     "start_time": "2025-06-11T08:40:29.272787",
     "status": "completed"
    },
    "tags": []
   },
   "source": [
    "# 7. <span title=\"A bit spicy\" style=\"color: darkgreen \">🌶️</span> (Optional)\n",
    "\n",
    "In this problem we'll be working with a simplified version of [blackjack](https://en.wikipedia.org/wiki/Blackjack) (aka twenty-one). In this version there is one player (who you'll control) and a dealer. Play proceeds as follows:\n",
    "\n",
    "- The player is dealt two face-up cards. The dealer is dealt one face-up card.\n",
    "- The player may ask to be dealt another card ('hit') as many times as they wish. If the sum of their cards exceeds 21, they lose the round immediately.\n",
    "- The dealer then deals additional cards to himself until either:\n",
    "    - the sum of the dealer's cards exceeds 21, in which case the player wins the round\n",
    "    - the sum of the dealer's cards is greater than or equal to 17. If the player's total is greater than the dealer's, the player wins. Otherwise, the dealer wins (even in case of a tie).\n",
    "    \n",
    "When calculating the sum of cards, Jack, Queen, and King count for 10. Aces can count as 1 or 11 (when referring to a player's \"total\" above, we mean the largest total that can be made without exceeding 21. So e.g. A+8 = 19, A+8+8 = 17)\n",
    "\n",
    "For this problem, you'll write a function representing the player's decision-making strategy in this game. We've provided a very unintelligent implementation below:"
   ]
  },
  {
   "cell_type": "code",
   "execution_count": 14,
   "id": "c189c8fe",
   "metadata": {
    "execution": {
     "iopub.execute_input": "2025-06-11T08:40:29.296370Z",
     "iopub.status.busy": "2025-06-11T08:40:29.296009Z",
     "iopub.status.idle": "2025-06-11T08:40:29.300886Z",
     "shell.execute_reply": "2025-06-11T08:40:29.299908Z"
    },
    "papermill": {
     "duration": 0.01495,
     "end_time": "2025-06-11T08:40:29.302615",
     "exception": false,
     "start_time": "2025-06-11T08:40:29.287665",
     "status": "completed"
    },
    "tags": []
   },
   "outputs": [],
   "source": [
    "def should_hit(dealer_total, player_total, player_low_aces, player_high_aces):\n",
    "    \"\"\"Return True if the player should hit (request another card) given the current game\n",
    "    state, or False if the player should stay.\n",
    "    When calculating a hand's total value, we count aces as \"high\" (with value 11) if doing so\n",
    "    doesn't bring the total above 21, otherwise we count them as low (with value 1). \n",
    "    For example, if the player's hand is {A, A, A, 7}, we will count it as 11 + 1 + 1 + 7,\n",
    "    and therefore set player_total=20, player_low_aces=2, player_high_aces=1.\n",
    "    \"\"\"\n",
    "    return False"
   ]
  },
  {
   "cell_type": "markdown",
   "id": "55fc03d3",
   "metadata": {
    "papermill": {
     "duration": 0.007106,
     "end_time": "2025-06-11T08:40:29.317565",
     "exception": false,
     "start_time": "2025-06-11T08:40:29.310459",
     "status": "completed"
    },
    "tags": []
   },
   "source": [
    "This very conservative agent *always* sticks with the hand of two cards that they're dealt.\n",
    "\n",
    "We'll be simulating games between your player agent and our own dealer agent by calling your function.\n",
    "\n",
    "Try running the function below to see an example of a simulated game:"
   ]
  },
  {
   "cell_type": "code",
   "execution_count": 15,
   "id": "c01b02f3",
   "metadata": {
    "execution": {
     "iopub.execute_input": "2025-06-11T08:40:29.334364Z",
     "iopub.status.busy": "2025-06-11T08:40:29.333180Z",
     "iopub.status.idle": "2025-06-11T08:40:29.339342Z",
     "shell.execute_reply": "2025-06-11T08:40:29.337892Z"
    },
    "papermill": {
     "duration": 0.015944,
     "end_time": "2025-06-11T08:40:29.340972",
     "exception": false,
     "start_time": "2025-06-11T08:40:29.325028",
     "status": "completed"
    },
    "tags": []
   },
   "outputs": [
    {
     "name": "stdout",
     "output_type": "stream",
     "text": [
      "Player starts with 3 and 3 (total = 6)\n",
      "Dealer starts with 7\n",
      "\n",
      "__Player's turn__\n",
      "Player stays\n",
      "\n",
      "__Dealer's turn__\n",
      "Dealer hits and receives Q. (total = 17)\n",
      "Dealer stands.\n",
      "Dealer wins. 17 >= 6\n"
     ]
    }
   ],
   "source": [
    "q7.simulate_one_game()"
   ]
  },
  {
   "cell_type": "markdown",
   "id": "9a1d1679",
   "metadata": {
    "papermill": {
     "duration": 0.007261,
     "end_time": "2025-06-11T08:40:29.356560",
     "exception": false,
     "start_time": "2025-06-11T08:40:29.349299",
     "status": "completed"
    },
    "tags": []
   },
   "source": [
    "The real test of your agent's mettle is their average win rate over many games. Try calling the function below to simulate 50000 games of blackjack (it may take a couple seconds):"
   ]
  },
  {
   "cell_type": "code",
   "execution_count": 16,
   "id": "851b4034",
   "metadata": {
    "execution": {
     "iopub.execute_input": "2025-06-11T08:40:29.374216Z",
     "iopub.status.busy": "2025-06-11T08:40:29.373899Z",
     "iopub.status.idle": "2025-06-11T08:40:30.257769Z",
     "shell.execute_reply": "2025-06-11T08:40:30.256540Z"
    },
    "papermill": {
     "duration": 0.895444,
     "end_time": "2025-06-11T08:40:30.259409",
     "exception": false,
     "start_time": "2025-06-11T08:40:29.363965",
     "status": "completed"
    },
    "tags": []
   },
   "outputs": [
    {
     "name": "stdout",
     "output_type": "stream",
     "text": [
      "Player won 19174 out of 50000 games (win rate = 38.3%)\n"
     ]
    }
   ],
   "source": [
    "q7.simulate(n_games=50000)"
   ]
  },
  {
   "cell_type": "markdown",
   "id": "5eee3519",
   "metadata": {
    "papermill": {
     "duration": 0.007205,
     "end_time": "2025-06-11T08:40:30.274341",
     "exception": false,
     "start_time": "2025-06-11T08:40:30.267136",
     "status": "completed"
    },
    "tags": []
   },
   "source": [
    "Our dumb agent that completely ignores the game state still manages to win shockingly often!\n",
    "\n",
    "Try adding some more smarts to the `should_hit` function and see how it affects the results."
   ]
  },
  {
   "cell_type": "code",
   "execution_count": 17,
   "id": "54402d0a",
   "metadata": {
    "execution": {
     "iopub.execute_input": "2025-06-11T08:40:30.291478Z",
     "iopub.status.busy": "2025-06-11T08:40:30.291123Z",
     "iopub.status.idle": "2025-06-11T08:40:31.324653Z",
     "shell.execute_reply": "2025-06-11T08:40:31.323505Z"
    },
    "papermill": {
     "duration": 1.044506,
     "end_time": "2025-06-11T08:40:31.326579",
     "exception": false,
     "start_time": "2025-06-11T08:40:30.282073",
     "status": "completed"
    },
    "tags": []
   },
   "outputs": [
    {
     "name": "stdout",
     "output_type": "stream",
     "text": [
      "Player won 18993 out of 50000 games (win rate = 38.0%)\n"
     ]
    }
   ],
   "source": [
    "def should_hit(dealer_total, player_total, player_low_aces, player_high_aces):\n",
    "    \"\"\"Return True if the player should hit (request another card) given the current game\n",
    "    state, or False if the player should stay.\n",
    "    When calculating a hand's total value, we count aces as \"high\" (with value 11) if doing so\n",
    "    doesn't bring the total above 21, otherwise we count them as low (with value 1). \n",
    "    For example, if the player's hand is {A, A, A, 7}, we will count it as 11 + 1 + 1 + 7,\n",
    "    and therefore set player_total=20, player_low_aces=2, player_high_aces=1.\n",
    "    \"\"\"\n",
    "    return False\n",
    "\n",
    "q7.simulate(n_games=50000)"
   ]
  },
  {
   "cell_type": "markdown",
   "id": "afcca514",
   "metadata": {
    "papermill": {
     "duration": 0.008347,
     "end_time": "2025-06-11T08:40:31.349167",
     "exception": false,
     "start_time": "2025-06-11T08:40:31.340820",
     "status": "completed"
    },
    "tags": []
   },
   "source": [
    "# Keep Going\n",
    "\n",
    "Learn about **[lists and tuples](https://www.kaggle.com/colinmorris/lists)** to handle multiple items of data in a systematic way."
   ]
  },
  {
   "cell_type": "markdown",
   "id": "f47bd09a",
   "metadata": {
    "papermill": {
     "duration": 0.008408,
     "end_time": "2025-06-11T08:40:31.439967",
     "exception": false,
     "start_time": "2025-06-11T08:40:31.431559",
     "status": "completed"
    },
    "tags": []
   },
   "source": [
    "---\n",
    "\n",
    "\n",
    "\n",
    "\n",
    "*Have questions or comments? Visit the [course discussion forum](https://www.kaggle.com/learn/python/discussion) to chat with other learners.*"
   ]
  }
 ],
 "metadata": {
  "kaggle": {
   "accelerator": "none",
   "dataSources": [],
   "isGpuEnabled": false,
   "isInternetEnabled": false,
   "language": "python",
   "sourceType": "notebook"
  },
  "kernelspec": {
   "display_name": "Python 3",
   "language": "python",
   "name": "python3"
  },
  "language_info": {
   "codemirror_mode": {
    "name": "ipython",
    "version": 3
   },
   "file_extension": ".py",
   "mimetype": "text/x-python",
   "name": "python",
   "nbconvert_exporter": "python",
   "pygments_lexer": "ipython3",
   "version": "3.11.11"
  },
  "learntools_metadata": {
   "lesson_index": 2,
   "type": "exercise"
  },
  "papermill": {
   "default_parameters": {},
   "duration": 11.218737,
   "end_time": "2025-06-11T08:40:32.069164",
   "environment_variables": {},
   "exception": null,
   "input_path": "__notebook__.ipynb",
   "output_path": "__notebook__.ipynb",
   "parameters": {},
   "start_time": "2025-06-11T08:40:20.850427",
   "version": "2.6.0"
  }
 },
 "nbformat": 4,
 "nbformat_minor": 5
}
