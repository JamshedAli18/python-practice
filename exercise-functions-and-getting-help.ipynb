{
 "cells": [
  {
   "cell_type": "markdown",
   "id": "021b4df7",
   "metadata": {
    "papermill": {
     "duration": 0.0037,
     "end_time": "2025-06-08T15:45:48.001842",
     "exception": false,
     "start_time": "2025-06-08T15:45:47.998142",
     "status": "completed"
    },
    "tags": []
   },
   "source": [
    "**This notebook is an exercise in the [Python](https://www.kaggle.com/learn/python) course.  You can reference the tutorial at [this link](https://www.kaggle.com/colinmorris/functions-and-getting-help).**\n",
    "\n",
    "---\n"
   ]
  },
  {
   "cell_type": "markdown",
   "id": "32af71bd",
   "metadata": {
    "papermill": {
     "duration": 0.003335,
     "end_time": "2025-06-08T15:45:48.009279",
     "exception": false,
     "start_time": "2025-06-08T15:45:48.005944",
     "status": "completed"
    },
    "tags": []
   },
   "source": [
    "Functions are powerful. Try writing some yourself.\n",
    "\n",
    "As before, don't forget to run the setup code below before jumping into question 1."
   ]
  },
  {
   "cell_type": "code",
   "execution_count": 1,
   "id": "ae09c704",
   "metadata": {
    "_kg_hide-input": true,
    "_kg_hide-output": true,
    "execution": {
     "iopub.execute_input": "2025-06-08T15:45:48.018100Z",
     "iopub.status.busy": "2025-06-08T15:45:48.017747Z",
     "iopub.status.idle": "2025-06-08T15:45:50.224010Z",
     "shell.execute_reply": "2025-06-08T15:45:50.222864Z"
    },
    "papermill": {
     "duration": 2.21363,
     "end_time": "2025-06-08T15:45:50.226223",
     "exception": false,
     "start_time": "2025-06-08T15:45:48.012593",
     "status": "completed"
    },
    "tags": []
   },
   "outputs": [
    {
     "name": "stdout",
     "output_type": "stream",
     "text": [
      "Setup complete.\n"
     ]
    }
   ],
   "source": [
    "# SETUP. You don't need to worry for now about what this code does or how it works.\n",
    "from learntools.core import binder; binder.bind(globals())\n",
    "from learntools.python.ex2 import *\n",
    "print('Setup complete.')"
   ]
  },
  {
   "cell_type": "markdown",
   "id": "4feb5f55",
   "metadata": {
    "papermill": {
     "duration": 0.004278,
     "end_time": "2025-06-08T15:45:50.234122",
     "exception": false,
     "start_time": "2025-06-08T15:45:50.229844",
     "status": "completed"
    },
    "tags": []
   },
   "source": [
    "# 1.\n",
    "\n",
    "Complete the body of the following function according to its docstring.\n",
    "\n",
    "HINT: Python has a built-in function `round`."
   ]
  },
  {
   "cell_type": "code",
   "execution_count": 2,
   "id": "e9aa2116",
   "metadata": {
    "execution": {
     "iopub.execute_input": "2025-06-08T15:45:50.243032Z",
     "iopub.status.busy": "2025-06-08T15:45:50.241661Z",
     "iopub.status.idle": "2025-06-08T15:45:50.252909Z",
     "shell.execute_reply": "2025-06-08T15:45:50.251693Z"
    },
    "papermill": {
     "duration": 0.017265,
     "end_time": "2025-06-08T15:45:50.254673",
     "exception": false,
     "start_time": "2025-06-08T15:45:50.237408",
     "status": "completed"
    },
    "tags": []
   },
   "outputs": [
    {
     "data": {
      "application/javascript": [
       "parent.postMessage({\"jupyterEvent\": \"custom.exercise_interaction\", \"data\": {\"outcomeType\": 1, \"valueTowardsCompletion\": 0.16666666666666666, \"interactionType\": 1, \"questionType\": 2, \"questionId\": \"1_RoundFunctionProblem\", \"learnToolsVersion\": \"0.3.5\", \"failureMessage\": \"\", \"exceptionClass\": \"\", \"trace\": \"\"}}, \"*\")"
      ],
      "text/plain": [
       "<IPython.core.display.Javascript object>"
      ]
     },
     "metadata": {},
     "output_type": "display_data"
    },
    {
     "data": {
      "text/markdown": [
       "<span style=\"color:#33cc33\">Correct</span>"
      ],
      "text/plain": [
       "Correct"
      ]
     },
     "metadata": {},
     "output_type": "display_data"
    }
   ],
   "source": [
    "def round_to_two_places(num):\n",
    "    \"\"\"Return the given number rounded to two decimal places. \n",
    "    \n",
    "    >>> round_to_two_places(3.14159)\n",
    "    3.14\n",
    "    \"\"\"\n",
    "    a = round(num,2)\n",
    "    return a\n",
    "# Check your answer\n",
    "q1.check()"
   ]
  },
  {
   "cell_type": "code",
   "execution_count": 3,
   "id": "8d5fb6b4",
   "metadata": {
    "execution": {
     "iopub.execute_input": "2025-06-08T15:45:50.263556Z",
     "iopub.status.busy": "2025-06-08T15:45:50.263161Z",
     "iopub.status.idle": "2025-06-08T15:45:50.267757Z",
     "shell.execute_reply": "2025-06-08T15:45:50.266746Z"
    },
    "papermill": {
     "duration": 0.011438,
     "end_time": "2025-06-08T15:45:50.269645",
     "exception": false,
     "start_time": "2025-06-08T15:45:50.258207",
     "status": "completed"
    },
    "tags": []
   },
   "outputs": [],
   "source": [
    "# Uncomment the following for a hint\n",
    "#q1.hint()\n",
    "# Or uncomment the following to peek at the solution\n",
    "#q1.solution()"
   ]
  },
  {
   "cell_type": "markdown",
   "id": "590f29cc",
   "metadata": {
    "papermill": {
     "duration": 0.003686,
     "end_time": "2025-06-08T15:45:50.276890",
     "exception": false,
     "start_time": "2025-06-08T15:45:50.273204",
     "status": "completed"
    },
    "tags": []
   },
   "source": [
    "# 2.\n",
    "The help for `round` says that `ndigits` (the second argument) may be negative.\n",
    "What do you think will happen when it is? Try some examples in the following cell."
   ]
  },
  {
   "cell_type": "code",
   "execution_count": 4,
   "id": "ec42ac48",
   "metadata": {
    "execution": {
     "iopub.execute_input": "2025-06-08T15:45:50.284977Z",
     "iopub.status.busy": "2025-06-08T15:45:50.284624Z",
     "iopub.status.idle": "2025-06-08T15:45:50.290289Z",
     "shell.execute_reply": "2025-06-08T15:45:50.288743Z"
    },
    "papermill": {
     "duration": 0.011828,
     "end_time": "2025-06-08T15:45:50.292083",
     "exception": false,
     "start_time": "2025-06-08T15:45:50.280255",
     "status": "completed"
    },
    "tags": []
   },
   "outputs": [],
   "source": [
    "# Put your test code here"
   ]
  },
  {
   "cell_type": "markdown",
   "id": "105f9536",
   "metadata": {
    "papermill": {
     "duration": 0.003172,
     "end_time": "2025-06-08T15:45:50.298929",
     "exception": false,
     "start_time": "2025-06-08T15:45:50.295757",
     "status": "completed"
    },
    "tags": []
   },
   "source": [
    "Can you think of a case where this would be useful?  Once you're ready, run the code cell below to see the answer and to receive credit for completing the problem."
   ]
  },
  {
   "cell_type": "code",
   "execution_count": 5,
   "id": "178326b2",
   "metadata": {
    "execution": {
     "iopub.execute_input": "2025-06-08T15:45:50.306988Z",
     "iopub.status.busy": "2025-06-08T15:45:50.306641Z",
     "iopub.status.idle": "2025-06-08T15:45:50.314329Z",
     "shell.execute_reply": "2025-06-08T15:45:50.313323Z"
    },
    "papermill": {
     "duration": 0.01361,
     "end_time": "2025-06-08T15:45:50.316000",
     "exception": false,
     "start_time": "2025-06-08T15:45:50.302390",
     "status": "completed"
    },
    "tags": []
   },
   "outputs": [
    {
     "data": {
      "application/javascript": [
       "parent.postMessage({\"jupyterEvent\": \"custom.exercise_interaction\", \"data\": {\"interactionType\": 3, \"questionType\": 4, \"questionId\": \"2_RoundNdigitsProblem\", \"learnToolsVersion\": \"0.3.5\", \"valueTowardsCompletion\": 0.0, \"failureMessage\": \"\", \"exceptionClass\": \"\", \"trace\": \"\", \"outcomeType\": 4}}, \"*\")"
      ],
      "text/plain": [
       "<IPython.core.display.Javascript object>"
      ]
     },
     "metadata": {},
     "output_type": "display_data"
    },
    {
     "data": {
      "text/markdown": [
       "<span style=\"color:#33cc99\">Solution:</span> As you've seen, `ndigits=-1` rounds to the nearest 10, `ndigits=-2` rounds to the nearest 100 and so on. Where might this be useful? Suppose we're dealing with large numbers:\n",
       "\n",
       "> The area of Finland is 338,424 km²  \n",
       "> The area of Greenland is 2,166,086 km²\n",
       "\n",
       "We probably don't care whether it's really 338,424, or 338,425, or 338,177. All those digits of accuracy are just distracting. We can chop them off by calling `round()` with `ndigits=-3`:\n",
       "\n",
       "> The area of Finland is 338,000 km²  \n",
       "> The area of Greenland is 2,166,000 km²\n",
       "\n",
       "(We'll talk about how we would get the commas later when we talk about string formatting :))\n"
      ],
      "text/plain": [
       "Solution: As you've seen, `ndigits=-1` rounds to the nearest 10, `ndigits=-2` rounds to the nearest 100 and so on. Where might this be useful? Suppose we're dealing with large numbers:\n",
       "\n",
       "> The area of Finland is 338,424 km²  \n",
       "> The area of Greenland is 2,166,086 km²\n",
       "\n",
       "We probably don't care whether it's really 338,424, or 338,425, or 338,177. All those digits of accuracy are just distracting. We can chop them off by calling `round()` with `ndigits=-3`:\n",
       "\n",
       "> The area of Finland is 338,000 km²  \n",
       "> The area of Greenland is 2,166,000 km²\n",
       "\n",
       "(We'll talk about how we would get the commas later when we talk about string formatting :))"
      ]
     },
     "metadata": {},
     "output_type": "display_data"
    }
   ],
   "source": [
    "# Check your answer (Run this code cell to receive credit!)\n",
    "q2.solution()"
   ]
  },
  {
   "cell_type": "markdown",
   "id": "57f7f444",
   "metadata": {
    "papermill": {
     "duration": 0.003557,
     "end_time": "2025-06-08T15:45:50.323572",
     "exception": false,
     "start_time": "2025-06-08T15:45:50.320015",
     "status": "completed"
    },
    "tags": []
   },
   "source": [
    "# 3.\n",
    "\n",
    "In the previous exercise, the candy-sharing friends Alice, Bob and Carol tried to split candies evenly. For the sake of their friendship, any candies left over would be smashed. For example, if they collectively bring home 91 candies, they'll take 30 each and smash 1.\n",
    "\n",
    "Below is a simple function that will calculate the number of candies to smash for *any* number of total candies.\n",
    "\n",
    "Modify it so that it optionally takes a second argument representing the number of friends the candies are being split between. If no second argument is provided, it should assume 3 friends, as before.\n",
    "\n",
    "Update the docstring to reflect this new behaviour."
   ]
  },
  {
   "cell_type": "code",
   "execution_count": 6,
   "id": "3b51b553",
   "metadata": {
    "execution": {
     "iopub.execute_input": "2025-06-08T15:45:50.332423Z",
     "iopub.status.busy": "2025-06-08T15:45:50.331943Z",
     "iopub.status.idle": "2025-06-08T15:45:50.342340Z",
     "shell.execute_reply": "2025-06-08T15:45:50.340806Z"
    },
    "papermill": {
     "duration": 0.017151,
     "end_time": "2025-06-08T15:45:50.344438",
     "exception": false,
     "start_time": "2025-06-08T15:45:50.327287",
     "status": "completed"
    },
    "tags": []
   },
   "outputs": [
    {
     "data": {
      "application/javascript": [
       "parent.postMessage({\"jupyterEvent\": \"custom.exercise_interaction\", \"data\": {\"outcomeType\": 1, \"valueTowardsCompletion\": 0.16666666666666666, \"interactionType\": 1, \"questionType\": 2, \"questionId\": \"3_CandySmashingFunctionProblem\", \"learnToolsVersion\": \"0.3.5\", \"failureMessage\": \"\", \"exceptionClass\": \"\", \"trace\": \"\"}}, \"*\")"
      ],
      "text/plain": [
       "<IPython.core.display.Javascript object>"
      ]
     },
     "metadata": {},
     "output_type": "display_data"
    },
    {
     "data": {
      "text/markdown": [
       "<span style=\"color:#33cc33\">Correct</span>"
      ],
      "text/plain": [
       "Correct"
      ]
     },
     "metadata": {},
     "output_type": "display_data"
    }
   ],
   "source": [
    "def to_smash(total_candies, n_friends=3):\n",
    "    return total_candies % n_friends\n",
    "\n",
    "# Check your answer\n",
    "q3.check()"
   ]
  },
  {
   "cell_type": "markdown",
   "id": "e2865e82",
   "metadata": {
    "papermill": {
     "duration": 0.003893,
     "end_time": "2025-06-08T15:45:50.352429",
     "exception": false,
     "start_time": "2025-06-08T15:45:50.348536",
     "status": "completed"
    },
    "tags": []
   },
   "source": [
    "# 4. (Optional)\n",
    "\n",
    "It may not be fun, but reading and understanding error messages will be an important part of your Python career.\n",
    "\n",
    "Each code cell below contains some commented buggy code. For each cell...\n",
    "\n",
    "1. Read the code and predict what you think will happen when it's run.\n",
    "2. Then uncomment the code and run it to see what happens. (**Tip**: In the kernel editor, you can highlight several lines and press `ctrl`+`/` to toggle commenting.)\n",
    "3. Fix the code (so that it accomplishes its intended purpose without throwing an exception)\n",
    "\n",
    "<!-- TODO: should this be autochecked? Delta is probably pretty small. -->"
   ]
  },
  {
   "cell_type": "code",
   "execution_count": 7,
   "id": "24cbfbba",
   "metadata": {
    "execution": {
     "iopub.execute_input": "2025-06-08T15:45:50.362816Z",
     "iopub.status.busy": "2025-06-08T15:45:50.361728Z",
     "iopub.status.idle": "2025-06-08T15:45:50.366741Z",
     "shell.execute_reply": "2025-06-08T15:45:50.365878Z"
    },
    "papermill": {
     "duration": 0.012523,
     "end_time": "2025-06-08T15:45:50.368829",
     "exception": false,
     "start_time": "2025-06-08T15:45:50.356306",
     "status": "completed"
    },
    "tags": []
   },
   "outputs": [],
   "source": [
    "# ruound_to_two_places(9.9999)"
   ]
  },
  {
   "cell_type": "code",
   "execution_count": 8,
   "id": "5bcfe74e",
   "metadata": {
    "execution": {
     "iopub.execute_input": "2025-06-08T15:45:50.377995Z",
     "iopub.status.busy": "2025-06-08T15:45:50.377627Z",
     "iopub.status.idle": "2025-06-08T15:45:50.382464Z",
     "shell.execute_reply": "2025-06-08T15:45:50.381004Z"
    },
    "papermill": {
     "duration": 0.011336,
     "end_time": "2025-06-08T15:45:50.384282",
     "exception": false,
     "start_time": "2025-06-08T15:45:50.372946",
     "status": "completed"
    },
    "tags": []
   },
   "outputs": [],
   "source": [
    "# x = -10\n",
    "# y = 5\n",
    "# # Which of the two variables above has the smallest absolute value?\n",
    "# smallest_abs = min(abs(x, y))"
   ]
  },
  {
   "cell_type": "code",
   "execution_count": 9,
   "id": "6faa6f40",
   "metadata": {
    "execution": {
     "iopub.execute_input": "2025-06-08T15:45:50.393646Z",
     "iopub.status.busy": "2025-06-08T15:45:50.393375Z",
     "iopub.status.idle": "2025-06-08T15:45:50.398454Z",
     "shell.execute_reply": "2025-06-08T15:45:50.397128Z"
    },
    "papermill": {
     "duration": 0.011998,
     "end_time": "2025-06-08T15:45:50.400228",
     "exception": false,
     "start_time": "2025-06-08T15:45:50.388230",
     "status": "completed"
    },
    "tags": []
   },
   "outputs": [],
   "source": [
    "# def f(x):\n",
    "#     y = abs(x)\n",
    "# return y\n",
    "\n",
    "# print(f(5))"
   ]
  },
  {
   "cell_type": "markdown",
   "id": "d0d5b0df",
   "metadata": {
    "papermill": {
     "duration": 0.003678,
     "end_time": "2025-06-08T15:45:50.408026",
     "exception": false,
     "start_time": "2025-06-08T15:45:50.404348",
     "status": "completed"
    },
    "tags": []
   },
   "source": [
    "# Keep Going\n",
    "\n",
    "Nice job with the code. Next up, you'll learn about *conditionals*, which you'll need to **[write interesting programs](https://www.kaggle.com/colinmorris/booleans-and-conditionals)**. "
   ]
  },
  {
   "cell_type": "markdown",
   "id": "ec35123b",
   "metadata": {
    "papermill": {
     "duration": 0.003707,
     "end_time": "2025-06-08T15:45:50.415535",
     "exception": false,
     "start_time": "2025-06-08T15:45:50.411828",
     "status": "completed"
    },
    "tags": []
   },
   "source": [
    "---\n",
    "\n",
    "\n",
    "\n",
    "\n",
    "*Have questions or comments? Visit the [course discussion forum](https://www.kaggle.com/learn/python/discussion) to chat with other learners.*"
   ]
  }
 ],
 "metadata": {
  "kaggle": {
   "accelerator": "none",
   "dataSources": [],
   "isGpuEnabled": false,
   "isInternetEnabled": false,
   "language": "python",
   "sourceType": "notebook"
  },
  "kernelspec": {
   "display_name": "Python 3",
   "language": "python",
   "name": "python3"
  },
  "language_info": {
   "codemirror_mode": {
    "name": "ipython",
    "version": 3
   },
   "file_extension": ".py",
   "mimetype": "text/x-python",
   "name": "python",
   "nbconvert_exporter": "python",
   "pygments_lexer": "ipython3",
   "version": "3.11.11"
  },
  "learntools_metadata": {
   "lesson_index": 1,
   "type": "exercise"
  },
  "papermill": {
   "default_parameters": {},
   "duration": 8.476233,
   "end_time": "2025-06-08T15:45:51.039822",
   "environment_variables": {},
   "exception": null,
   "input_path": "__notebook__.ipynb",
   "output_path": "__notebook__.ipynb",
   "parameters": {},
   "start_time": "2025-06-08T15:45:42.563589",
   "version": "2.6.0"
  }
 },
 "nbformat": 4,
 "nbformat_minor": 5
}
