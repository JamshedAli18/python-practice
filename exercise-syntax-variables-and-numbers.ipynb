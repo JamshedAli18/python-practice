{
 "cells": [
  {
   "cell_type": "markdown",
   "id": "d33ad59c",
   "metadata": {
    "papermill": {
     "duration": 0.004787,
     "end_time": "2025-05-24T16:46:52.692817",
     "exception": false,
     "start_time": "2025-05-24T16:46:52.688030",
     "status": "completed"
    },
    "tags": []
   },
   "source": [
    "**This notebook is an exercise in the [Python](https://www.kaggle.com/learn/python) course.  You can reference the tutorial at [this link](https://www.kaggle.com/colinmorris/hello-python).**\n",
    "\n",
    "---\n"
   ]
  },
  {
   "cell_type": "markdown",
   "id": "66fd63b6",
   "metadata": {
    "papermill": {
     "duration": 0.003623,
     "end_time": "2025-05-24T16:46:52.700497",
     "exception": false,
     "start_time": "2025-05-24T16:46:52.696874",
     "status": "completed"
    },
    "tags": []
   },
   "source": [
    "Welcome to your first set of Python coding problems.  If this is your first time using Kaggle Notebooks, welcome! \n",
    "\n",
    "Notebooks are composed of blocks (called \"cells\") of text and code. Each of these is editable, though you'll mainly be editing the code cells to answer some questions.\n",
    "\n",
    "To get started, try running the code cell below (by pressing the ► button, or clicking on the cell and pressing ctrl+enter on your keyboard)."
   ]
  },
  {
   "cell_type": "code",
   "execution_count": 1,
   "id": "8c7ad7e1",
   "metadata": {
    "execution": {
     "iopub.execute_input": "2025-05-24T16:46:52.709491Z",
     "iopub.status.busy": "2025-05-24T16:46:52.709175Z",
     "iopub.status.idle": "2025-05-24T16:46:52.716953Z",
     "shell.execute_reply": "2025-05-24T16:46:52.716161Z"
    },
    "papermill": {
     "duration": 0.013902,
     "end_time": "2025-05-24T16:46:52.718232",
     "exception": false,
     "start_time": "2025-05-24T16:46:52.704330",
     "status": "completed"
    },
    "tags": []
   },
   "outputs": [
    {
     "name": "stdout",
     "output_type": "stream",
     "text": [
      "You've successfully run some Python code\n",
      "Congratulations!\n"
     ]
    }
   ],
   "source": [
    "print(\"You've successfully run some Python code\")\n",
    "print(\"Congratulations!\")"
   ]
  },
  {
   "cell_type": "markdown",
   "id": "b00ac9a6",
   "metadata": {
    "papermill": {
     "duration": 0.003992,
     "end_time": "2025-05-24T16:46:52.726229",
     "exception": false,
     "start_time": "2025-05-24T16:46:52.722237",
     "status": "completed"
    },
    "tags": []
   },
   "source": [
    "Try adding another line of code in the cell above and re-running it. \n",
    "\n",
    "Now let's get a little fancier:  Add a new code cell by clicking on an existing code cell, hitting the escape key, and then hitting the `a` or `b` key.  The `a` key will add a cell above the current cell, and `b` adds a cell below.\n",
    "\n",
    "Great! Now you know how to use Notebooks.\n",
    "\n",
    "Each hands-on exercise starts by setting up our feedback and code checking mechanism. Run the code cell below to do that. Then you'll be ready to move on to question 0."
   ]
  },
  {
   "cell_type": "code",
   "execution_count": 2,
   "id": "b766bc9a",
   "metadata": {
    "_kg_hide-input": true,
    "_kg_hide-output": true,
    "execution": {
     "iopub.execute_input": "2025-05-24T16:46:52.735756Z",
     "iopub.status.busy": "2025-05-24T16:46:52.734836Z",
     "iopub.status.idle": "2025-05-24T16:46:54.544463Z",
     "shell.execute_reply": "2025-05-24T16:46:54.543542Z"
    },
    "papermill": {
     "duration": 1.815784,
     "end_time": "2025-05-24T16:46:54.545842",
     "exception": false,
     "start_time": "2025-05-24T16:46:52.730058",
     "status": "completed"
    },
    "tags": []
   },
   "outputs": [
    {
     "name": "stdout",
     "output_type": "stream",
     "text": [
      "Setup complete! You're ready to start question 0.\n"
     ]
    }
   ],
   "source": [
    "from learntools.core import binder; binder.bind(globals())\n",
    "from learntools.python.ex1 import *\n",
    "print(\"Setup complete! You're ready to start question 0.\")"
   ]
  },
  {
   "cell_type": "markdown",
   "id": "469a2bb1",
   "metadata": {
    "papermill": {
     "duration": 0.003905,
     "end_time": "2025-05-24T16:46:54.554007",
     "exception": false,
     "start_time": "2025-05-24T16:46:54.550102",
     "status": "completed"
    },
    "tags": []
   },
   "source": [
    "# 0.\n",
    "\n",
    "*This is a silly question intended as an introduction to the format we use for hands-on exercises throughout all Kaggle courses.*\n",
    "\n",
    "**What is your favorite color? **\n",
    "\n",
    "To complete this question, create a variable called `color` in the cell below with an appropriate value. The function call `q0.check()` (which we've already provided in the cell below) will check your answer."
   ]
  },
  {
   "cell_type": "code",
   "execution_count": 3,
   "id": "d24e2b26",
   "metadata": {
    "execution": {
     "iopub.execute_input": "2025-05-24T16:46:54.563745Z",
     "iopub.status.busy": "2025-05-24T16:46:54.562793Z",
     "iopub.status.idle": "2025-05-24T16:46:54.570657Z",
     "shell.execute_reply": "2025-05-24T16:46:54.569822Z"
    },
    "papermill": {
     "duration": 0.01411,
     "end_time": "2025-05-24T16:46:54.572060",
     "exception": false,
     "start_time": "2025-05-24T16:46:54.557950",
     "status": "completed"
    },
    "tags": []
   },
   "outputs": [
    {
     "data": {
      "application/javascript": [
       "parent.postMessage({\"jupyterEvent\": \"custom.exercise_interaction\", \"data\": {\"outcomeType\": 1, \"valueTowardsCompletion\": 0.25, \"interactionType\": 1, \"questionType\": 2, \"questionId\": \"0_ExerciseFormatTutorial\", \"learnToolsVersion\": \"0.3.5\", \"failureMessage\": \"\", \"exceptionClass\": \"\", \"trace\": \"\"}}, \"*\")"
      ],
      "text/plain": [
       "<IPython.core.display.Javascript object>"
      ]
     },
     "metadata": {},
     "output_type": "display_data"
    },
    {
     "data": {
      "text/markdown": [
       "<span style=\"color:#33cc33\">Correct:</span> What?! You got it right without needing a hint or anything? Drats. Well hey, you should still continue to the next step to get some practice asking for a hint and checking solutions. (Even though you obviously don't need any help here.)"
      ],
      "text/plain": [
       "Correct: What?! You got it right without needing a hint or anything? Drats. Well hey, you should still continue to the next step to get some practice asking for a hint and checking solutions. (Even though you obviously don't need any help here.)"
      ]
     },
     "metadata": {},
     "output_type": "display_data"
    }
   ],
   "source": [
    "# create a variable called color with an appropriate value on the line below\n",
    "# (Remember, strings in Python must be enclosed in 'single' or \"double\" quotes)\n",
    "color = 'blue'\n",
    "\n",
    "# Check your answer\n",
    "q0.check()"
   ]
  },
  {
   "cell_type": "markdown",
   "id": "5a070b5c",
   "metadata": {
    "papermill": {
     "duration": 0.003873,
     "end_time": "2025-05-24T16:46:54.580143",
     "exception": false,
     "start_time": "2025-05-24T16:46:54.576270",
     "status": "completed"
    },
    "tags": []
   },
   "source": [
    "Didn't get the right answer? How do you not even know your own favorite color?!\n",
    "\n",
    "Delete the `#` in the line below to make one of the lines run. You can choose between getting a hint or the full answer by choosing which line to remove the `#` from. \n",
    "\n",
    "Removing the `#` is called uncommenting, because it changes that line from a \"comment\" which Python doesn't run to code, which Python does run."
   ]
  },
  {
   "cell_type": "code",
   "execution_count": 4,
   "id": "9a24a695",
   "metadata": {
    "execution": {
     "iopub.execute_input": "2025-05-24T16:46:54.589609Z",
     "iopub.status.busy": "2025-05-24T16:46:54.589289Z",
     "iopub.status.idle": "2025-05-24T16:46:54.593077Z",
     "shell.execute_reply": "2025-05-24T16:46:54.592246Z"
    },
    "papermill": {
     "duration": 0.010122,
     "end_time": "2025-05-24T16:46:54.594420",
     "exception": false,
     "start_time": "2025-05-24T16:46:54.584298",
     "status": "completed"
    },
    "tags": []
   },
   "outputs": [],
   "source": [
    "#q0.hint()\n",
    "#q0.solution()"
   ]
  },
  {
   "cell_type": "markdown",
   "id": "97b9f63c",
   "metadata": {
    "papermill": {
     "duration": 0.004023,
     "end_time": "2025-05-24T16:46:54.602643",
     "exception": false,
     "start_time": "2025-05-24T16:46:54.598620",
     "status": "completed"
    },
    "tags": []
   },
   "source": [
    "The upcoming questions work the same way. The only thing that will change are the question numbers. For the next question, you'll call `q1.check()`, `q1.hint()`, `q1.solution()`, for question 2, you'll call `q2.check()`, and so on."
   ]
  },
  {
   "cell_type": "markdown",
   "id": "cb6612a7",
   "metadata": {
    "papermill": {
     "duration": 0.003832,
     "end_time": "2025-05-24T16:46:54.610548",
     "exception": false,
     "start_time": "2025-05-24T16:46:54.606716",
     "status": "completed"
    },
    "tags": []
   },
   "source": [
    "<hr/>\n",
    "\n",
    "# 1.\n",
    "\n",
    "Complete the code below. In case it's helpful, here is the table of available arithmetic operations:\n",
    "\n",
    "\n",
    "\n",
    "| Operator     | Name           | Description                                            |\n",
    "|--------------|----------------|--------------------------------------------------------|\n",
    "| ``a + b``    | Addition       | Sum of ``a`` and ``b``                                 |\n",
    "| ``a - b``    | Subtraction    | Difference of ``a`` and ``b``                          |\n",
    "| ``a * b``    | Multiplication | Product of ``a`` and ``b``                             |\n",
    "| ``a / b``    | True division  | Quotient of ``a`` and ``b``                            |\n",
    "| ``a // b``   | Floor division | Quotient of ``a`` and ``b``, removing fractional parts |\n",
    "| ``a % b``    | Modulus        | Integer remainder after division of ``a`` by ``b``     |\n",
    "| ``a ** b``   | Exponentiation | ``a`` raised to the power of ``b``                     |\n",
    "| ``-a``       | Negation       | The negative of ``a``                                  |\n",
    "\n",
    "<span style=\"display:none\"></span>\n"
   ]
  },
  {
   "cell_type": "code",
   "execution_count": 5,
   "id": "c2eecfbe",
   "metadata": {
    "execution": {
     "iopub.execute_input": "2025-05-24T16:46:54.620164Z",
     "iopub.status.busy": "2025-05-24T16:46:54.619866Z",
     "iopub.status.idle": "2025-05-24T16:46:54.626915Z",
     "shell.execute_reply": "2025-05-24T16:46:54.626164Z"
    },
    "papermill": {
     "duration": 0.013798,
     "end_time": "2025-05-24T16:46:54.628320",
     "exception": false,
     "start_time": "2025-05-24T16:46:54.614522",
     "status": "completed"
    },
    "tags": []
   },
   "outputs": [
    {
     "data": {
      "application/javascript": [
       "parent.postMessage({\"jupyterEvent\": \"custom.exercise_interaction\", \"data\": {\"outcomeType\": 1, \"valueTowardsCompletion\": 0.25, \"interactionType\": 1, \"questionType\": 1, \"questionId\": \"1_CircleArea\", \"learnToolsVersion\": \"0.3.5\", \"failureMessage\": \"\", \"exceptionClass\": \"\", \"trace\": \"\"}}, \"*\")"
      ],
      "text/plain": [
       "<IPython.core.display.Javascript object>"
      ]
     },
     "metadata": {},
     "output_type": "display_data"
    },
    {
     "data": {
      "text/markdown": [
       "<span style=\"color:#33cc33\">Correct</span>"
      ],
      "text/plain": [
       "Correct"
      ]
     },
     "metadata": {},
     "output_type": "display_data"
    }
   ],
   "source": [
    "pi = 3.14159 # approximate\n",
    "diameter = 3\n",
    "\n",
    "# Create a variable called 'radius' equal to half the diameter\n",
    "radius = diameter / 2\n",
    "\n",
    "# Create a variable called 'area', using the formula for the area of a circle: pi times the radius squared\n",
    "area = pi * radius ** 2\n",
    "\n",
    "# Check your answer\n",
    "q1.check()"
   ]
  },
  {
   "cell_type": "markdown",
   "id": "cefc9099",
   "metadata": {
    "papermill": {
     "duration": 0.004042,
     "end_time": "2025-05-24T16:46:54.636909",
     "exception": false,
     "start_time": "2025-05-24T16:46:54.632867",
     "status": "completed"
    },
    "tags": []
   },
   "source": [
    "<hr/>\n",
    "\n",
    "# 2.\n",
    "\n",
    "Add code to the following cell to swap variables `a` and `b` (so that `a` refers to the object previously referred to by `b` and vice versa)."
   ]
  },
  {
   "cell_type": "code",
   "execution_count": 6,
   "id": "6f7a604e",
   "metadata": {
    "execution": {
     "iopub.execute_input": "2025-05-24T16:46:54.648094Z",
     "iopub.status.busy": "2025-05-24T16:46:54.647804Z",
     "iopub.status.idle": "2025-05-24T16:46:54.655454Z",
     "shell.execute_reply": "2025-05-24T16:46:54.654791Z"
    },
    "papermill": {
     "duration": 0.015645,
     "end_time": "2025-05-24T16:46:54.656770",
     "exception": false,
     "start_time": "2025-05-24T16:46:54.641125",
     "status": "completed"
    },
    "tags": []
   },
   "outputs": [
    {
     "data": {
      "application/javascript": [
       "parent.postMessage({\"jupyterEvent\": \"custom.exercise_interaction\", \"data\": {\"outcomeType\": 1, \"valueTowardsCompletion\": 0.25, \"interactionType\": 1, \"questionType\": 2, \"questionId\": \"2_VariableSwap\", \"learnToolsVersion\": \"0.3.5\", \"failureMessage\": \"\", \"exceptionClass\": \"\", \"trace\": \"\"}}, \"*\")"
      ],
      "text/plain": [
       "<IPython.core.display.Javascript object>"
      ]
     },
     "metadata": {},
     "output_type": "display_data"
    },
    {
     "data": {
      "text/markdown": [
       "<span style=\"color:#33cc33\">Correct:</span> \n",
       "\n",
       "The most straightforward solution is to use a third variable to temporarily store one of the old values. e.g.:\n",
       "\n",
       "    tmp = a\n",
       "    a = b\n",
       "    b = tmp\n",
       "\n",
       "If you've read lots of Python code, you might have seen the following trick to swap two variables in one line:\n",
       "\n",
       "    a, b = b, a\n",
       "\n",
       "We'll demystify this bit of Python magic later when we talk about *tuples*."
      ],
      "text/plain": [
       "Correct: \n",
       "\n",
       "The most straightforward solution is to use a third variable to temporarily store one of the old values. e.g.:\n",
       "\n",
       "    tmp = a\n",
       "    a = b\n",
       "    b = tmp\n",
       "\n",
       "If you've read lots of Python code, you might have seen the following trick to swap two variables in one line:\n",
       "\n",
       "    a, b = b, a\n",
       "\n",
       "We'll demystify this bit of Python magic later when we talk about *tuples*."
      ]
     },
     "metadata": {},
     "output_type": "display_data"
    }
   ],
   "source": [
    "########### Setup code - don't touch this part ######################\n",
    "# If you're curious, these are examples of lists. We'll talk about \n",
    "# them in depth a few lessons from now. For now, just know that they're\n",
    "# yet another type of Python object, like int or float.\n",
    "a = [1, 2, 3]\n",
    "b = [3, 2, 1]\n",
    "q2.store_original_ids()\n",
    "######################################################################\n",
    "\n",
    "# Your code goes here. Swap the values to which a and b refer.\n",
    "# If you get stuck, you can always uncomment one or both of the lines in\n",
    "# the next cell for a hint, or to peek at the solution.\n",
    "\n",
    "######################################################################\n",
    "\n",
    "temp = a \n",
    "a=b\n",
    "b=temp\n",
    "\n",
    "# Check your answer\n",
    "q2.check()"
   ]
  },
  {
   "cell_type": "code",
   "execution_count": 7,
   "id": "42a1af13",
   "metadata": {
    "execution": {
     "iopub.execute_input": "2025-05-24T16:46:54.667557Z",
     "iopub.status.busy": "2025-05-24T16:46:54.667273Z",
     "iopub.status.idle": "2025-05-24T16:46:54.671293Z",
     "shell.execute_reply": "2025-05-24T16:46:54.670476Z"
    },
    "papermill": {
     "duration": 0.010705,
     "end_time": "2025-05-24T16:46:54.672589",
     "exception": false,
     "start_time": "2025-05-24T16:46:54.661884",
     "status": "completed"
    },
    "tags": []
   },
   "outputs": [],
   "source": [
    "#q2.hint()"
   ]
  },
  {
   "cell_type": "code",
   "execution_count": 8,
   "id": "c8bc9366",
   "metadata": {
    "execution": {
     "iopub.execute_input": "2025-05-24T16:46:54.683071Z",
     "iopub.status.busy": "2025-05-24T16:46:54.682722Z",
     "iopub.status.idle": "2025-05-24T16:46:54.686199Z",
     "shell.execute_reply": "2025-05-24T16:46:54.685586Z"
    },
    "papermill": {
     "duration": 0.010172,
     "end_time": "2025-05-24T16:46:54.687405",
     "exception": false,
     "start_time": "2025-05-24T16:46:54.677233",
     "status": "completed"
    },
    "tags": []
   },
   "outputs": [],
   "source": [
    "#q2.solution()"
   ]
  },
  {
   "cell_type": "markdown",
   "id": "3269ce73",
   "metadata": {
    "papermill": {
     "duration": 0.004376,
     "end_time": "2025-05-24T16:46:54.696531",
     "exception": false,
     "start_time": "2025-05-24T16:46:54.692155",
     "status": "completed"
    },
    "tags": []
   },
   "source": [
    "<hr/>\n",
    "\n",
    "# 3a.\n",
    "\n",
    "Add parentheses to the following expression so that it evaluates to 1."
   ]
  },
  {
   "cell_type": "code",
   "execution_count": 9,
   "id": "1eff1ec3",
   "metadata": {
    "execution": {
     "iopub.execute_input": "2025-05-24T16:46:54.706721Z",
     "iopub.status.busy": "2025-05-24T16:46:54.706417Z",
     "iopub.status.idle": "2025-05-24T16:46:54.711631Z",
     "shell.execute_reply": "2025-05-24T16:46:54.710966Z"
    },
    "papermill": {
     "duration": 0.011879,
     "end_time": "2025-05-24T16:46:54.712905",
     "exception": false,
     "start_time": "2025-05-24T16:46:54.701026",
     "status": "completed"
    },
    "tags": []
   },
   "outputs": [
    {
     "data": {
      "text/plain": [
       "1"
      ]
     },
     "execution_count": 9,
     "metadata": {},
     "output_type": "execute_result"
    }
   ],
   "source": [
    "(5 - 3) // 2"
   ]
  },
  {
   "cell_type": "code",
   "execution_count": 10,
   "id": "3087bba3",
   "metadata": {
    "execution": {
     "iopub.execute_input": "2025-05-24T16:46:54.723327Z",
     "iopub.status.busy": "2025-05-24T16:46:54.722985Z",
     "iopub.status.idle": "2025-05-24T16:46:54.726855Z",
     "shell.execute_reply": "2025-05-24T16:46:54.726157Z"
    },
    "papermill": {
     "duration": 0.010629,
     "end_time": "2025-05-24T16:46:54.728237",
     "exception": false,
     "start_time": "2025-05-24T16:46:54.717608",
     "status": "completed"
    },
    "tags": []
   },
   "outputs": [],
   "source": [
    "#q3.a.hint()"
   ]
  },
  {
   "cell_type": "markdown",
   "id": "d7455dde",
   "metadata": {
    "papermill": {
     "duration": 0.004647,
     "end_time": "2025-05-24T16:46:54.737766",
     "exception": false,
     "start_time": "2025-05-24T16:46:54.733119",
     "status": "completed"
    },
    "tags": []
   },
   "source": [
    "# 3b.  <span title=\"A bit spicy\" style=\"color: darkgreen \">🌶️</span>\n",
    "\n",
    "<small>Questions, like this one, marked a spicy pepper are a bit harder.</small>\n",
    "\n",
    "Add parentheses to the following expression so that it evaluates to 0."
   ]
  },
  {
   "cell_type": "code",
   "execution_count": 11,
   "id": "a9dda0a9",
   "metadata": {
    "execution": {
     "iopub.execute_input": "2025-05-24T16:46:54.748066Z",
     "iopub.status.busy": "2025-05-24T16:46:54.747802Z",
     "iopub.status.idle": "2025-05-24T16:46:54.753110Z",
     "shell.execute_reply": "2025-05-24T16:46:54.752397Z"
    },
    "papermill": {
     "duration": 0.012027,
     "end_time": "2025-05-24T16:46:54.754430",
     "exception": false,
     "start_time": "2025-05-24T16:46:54.742403",
     "status": "completed"
    },
    "tags": []
   },
   "outputs": [
    {
     "data": {
      "text/plain": [
       "0"
      ]
     },
     "execution_count": 11,
     "metadata": {},
     "output_type": "execute_result"
    }
   ],
   "source": [
    "(8 - 3) * (2 - (1 + 1))"
   ]
  },
  {
   "cell_type": "code",
   "execution_count": 12,
   "id": "04d3faf0",
   "metadata": {
    "execution": {
     "iopub.execute_input": "2025-05-24T16:46:54.764935Z",
     "iopub.status.busy": "2025-05-24T16:46:54.764665Z",
     "iopub.status.idle": "2025-05-24T16:46:54.768145Z",
     "shell.execute_reply": "2025-05-24T16:46:54.767516Z"
    },
    "papermill": {
     "duration": 0.009973,
     "end_time": "2025-05-24T16:46:54.769245",
     "exception": false,
     "start_time": "2025-05-24T16:46:54.759272",
     "status": "completed"
    },
    "tags": []
   },
   "outputs": [],
   "source": [
    "#q3.b.hint()"
   ]
  },
  {
   "cell_type": "markdown",
   "id": "658e0f60",
   "metadata": {
    "papermill": {
     "duration": 0.004369,
     "end_time": "2025-05-24T16:46:54.778446",
     "exception": false,
     "start_time": "2025-05-24T16:46:54.774077",
     "status": "completed"
    },
    "tags": []
   },
   "source": [
    "<hr/>\n",
    "\n",
    "# 4. \n",
    "Alice, Bob and Carol have agreed to pool their Halloween candy and split it evenly among themselves.\n",
    "For the sake of their friendship, any candies left over will be smashed. For example, if they collectively\n",
    "bring home 91 candies, they'll take 30 each and smash 1.\n",
    "\n",
    "Write an arithmetic expression below to calculate how many candies they must smash for a given haul."
   ]
  },
  {
   "cell_type": "code",
   "execution_count": 13,
   "id": "14a3eba2",
   "metadata": {
    "execution": {
     "iopub.execute_input": "2025-05-24T16:46:54.788484Z",
     "iopub.status.busy": "2025-05-24T16:46:54.788241Z",
     "iopub.status.idle": "2025-05-24T16:46:54.796073Z",
     "shell.execute_reply": "2025-05-24T16:46:54.795109Z"
    },
    "papermill": {
     "duration": 0.014407,
     "end_time": "2025-05-24T16:46:54.797342",
     "exception": false,
     "start_time": "2025-05-24T16:46:54.782935",
     "status": "completed"
    },
    "tags": []
   },
   "outputs": [
    {
     "data": {
      "application/javascript": [
       "parent.postMessage({\"jupyterEvent\": \"custom.exercise_interaction\", \"data\": {\"outcomeType\": 1, \"valueTowardsCompletion\": 0.25, \"interactionType\": 1, \"questionType\": 1, \"questionId\": \"4_CandySplitting\", \"learnToolsVersion\": \"0.3.5\", \"failureMessage\": \"\", \"exceptionClass\": \"\", \"trace\": \"\"}}, \"*\")"
      ],
      "text/plain": [
       "<IPython.core.display.Javascript object>"
      ]
     },
     "metadata": {},
     "output_type": "display_data"
    },
    {
     "data": {
      "text/markdown": [
       "<span style=\"color:#33cc33\">Correct</span>"
      ],
      "text/plain": [
       "Correct"
      ]
     },
     "metadata": {},
     "output_type": "display_data"
    }
   ],
   "source": [
    "# Variables representing the number of candies collected by alice, bob, and carol\n",
    "alice_candies = 121\n",
    "bob_candies = 77\n",
    "carol_candies = 109\n",
    "\n",
    "# Your code goes here! Replace the right-hand side of this assignment with an expression\n",
    "# involving alice_candies, bob_candies, and carol_candies\n",
    "to_smash = (alice_candies + bob_candies + carol_candies) % 3\n",
    "\n",
    "\n",
    "\n",
    "# Check your answer\n",
    "q4.check()"
   ]
  },
  {
   "cell_type": "markdown",
   "id": "ef3a9507",
   "metadata": {
    "papermill": {
     "duration": 0.004545,
     "end_time": "2025-05-24T16:46:54.806953",
     "exception": false,
     "start_time": "2025-05-24T16:46:54.802408",
     "status": "completed"
    },
    "tags": []
   },
   "source": [
    "# Keep Going\n",
    "\n",
    "Next up, you'll **[learn to write new functions and understand functions others write](https://www.kaggle.com/colinmorris/functions-and-getting-help)**. This will make you at least 10 times more productive as a Python programmer. "
   ]
  },
  {
   "cell_type": "markdown",
   "id": "cfebb7a9",
   "metadata": {
    "papermill": {
     "duration": 0.004534,
     "end_time": "2025-05-24T16:46:54.816259",
     "exception": false,
     "start_time": "2025-05-24T16:46:54.811725",
     "status": "completed"
    },
    "tags": []
   },
   "source": [
    "---\n",
    "\n",
    "\n",
    "\n",
    "\n",
    "*Have questions or comments? Visit the [course discussion forum](https://www.kaggle.com/learn/python/discussion) to chat with other learners.*"
   ]
  }
 ],
 "metadata": {
  "kaggle": {
   "accelerator": "none",
   "dataSources": [],
   "isGpuEnabled": false,
   "isInternetEnabled": false,
   "language": "python",
   "sourceType": "notebook"
  },
  "kernelspec": {
   "display_name": "Python 3",
   "language": "python",
   "name": "python3"
  },
  "language_info": {
   "codemirror_mode": {
    "name": "ipython",
    "version": 3
   },
   "file_extension": ".py",
   "mimetype": "text/x-python",
   "name": "python",
   "nbconvert_exporter": "python",
   "pygments_lexer": "ipython3",
   "version": "3.11.11"
  },
  "learntools_metadata": {
   "lesson_index": 0,
   "type": "exercise"
  },
  "papermill": {
   "default_parameters": {},
   "duration": 7.132643,
   "end_time": "2025-05-24T16:46:55.339154",
   "environment_variables": {},
   "exception": null,
   "input_path": "__notebook__.ipynb",
   "output_path": "__notebook__.ipynb",
   "parameters": {},
   "start_time": "2025-05-24T16:46:48.206511",
   "version": "2.6.0"
  }
 },
 "nbformat": 4,
 "nbformat_minor": 5
}
